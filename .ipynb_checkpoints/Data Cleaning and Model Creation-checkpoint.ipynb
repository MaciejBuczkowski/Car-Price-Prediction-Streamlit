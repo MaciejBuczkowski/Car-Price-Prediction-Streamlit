{
 "cells": [
  {
   "cell_type": "code",
   "execution_count": 103,
   "id": "9cf97a24-f2c0-42a4-bb4d-435801d1d43a",
   "metadata": {},
   "outputs": [],
   "source": [
    "import numpy as np\n",
    "import csv\n",
    "import joblib\n",
    "from sklearn.preprocessing import LabelEncoder\n",
    "from sklearn.utils import shuffle\n",
    "from sklearn.model_selection import train_test_split\n",
    "import matplotlib.pyplot as plt\n",
    "import pandas as pd\n",
    "from sklearn.ensemble import RandomForestRegressor\n",
    "from sklearn.metrics import mean_absolute_error\n",
    "from sklearn.metrics import mean_squared_error\n",
    "from sklearn.metrics import mean_absolute_percentage_error"
   ]
  },
  {
   "cell_type": "markdown",
   "id": "ddc4669d-efe2-475c-98c3-66e085f4d479",
   "metadata": {},
   "source": [
    "Import data and finish cleaning. Most done in excel due to being faster and some large inconsistencies on the website"
   ]
  },
  {
   "cell_type": "code",
   "execution_count": 104,
   "id": "9156356a-f88c-416e-8f4d-b953520ce3c0",
   "metadata": {},
   "outputs": [],
   "source": [
    "df = pd.read_csv('CarData.csv')"
   ]
  },
  {
   "cell_type": "code",
   "execution_count": 105,
   "id": "d6328c9c-9052-499a-9c34-e2157ee2089d",
   "metadata": {},
   "outputs": [
    {
     "data": {
      "text/plain": [
       "<bound method NDFrame.head of              Make       Model   Price  Reg year Vehicle type  Miles  \\\n",
       "0              AC       Cobra   76995      1999  Convertible  12500   \n",
       "1              AC       Cobra  109750      2001  Convertible  14000   \n",
       "2              AC       Cobra  120000      2000  Convertible   2993   \n",
       "3          Abarth  124 Spider   21440      2018  Convertible  11049   \n",
       "4          Abarth  124 Spider   17980      2017  Convertible  38625   \n",
       "...           ...         ...     ...       ...          ...    ...   \n",
       "220733      Volvo        XC90   39995      2016          SUV  46934   \n",
       "220734      Volvo        XC90   41990      2019          SUV  24322   \n",
       "220735  Westfield        2000   16995      1997  Convertible  17960   \n",
       "220736  Westfield        2000    8495      1996  Convertible  14500   \n",
       "220737  Westfield        2000   15000      2015  Convertible   2900   \n",
       "\n",
       "        Engine size  Horsepower Trans type Fuel type  \n",
       "0               4.9         225     Manual    Petrol  \n",
       "1               4.9         225     Manual    Petrol  \n",
       "2               4.9         225     Manual    Petrol  \n",
       "3               1.4         170  Automatic    Petrol  \n",
       "4               1.4         167     Manual    Petrol  \n",
       "...             ...         ...        ...       ...  \n",
       "220733          2.0         407  Automatic    Petrol  \n",
       "220734          2.0         235  Automatic    Diesel  \n",
       "220735          2.0         170     Manual    Petrol  \n",
       "220736          2.0         170     Manual    Petrol  \n",
       "220737          2.0         170     Manual    Petrol  \n",
       "\n",
       "[220738 rows x 10 columns]>"
      ]
     },
     "execution_count": 105,
     "metadata": {},
     "output_type": "execute_result"
    }
   ],
   "source": [
    "df.head"
   ]
  },
  {
   "cell_type": "code",
   "execution_count": 106,
   "id": "fe33e220-1746-400e-9cc6-5096a7e6a11d",
   "metadata": {},
   "outputs": [
    {
     "name": "stdout",
     "output_type": "stream",
     "text": [
      "<class 'pandas.core.frame.DataFrame'>\n",
      "RangeIndex: 220738 entries, 0 to 220737\n",
      "Data columns (total 10 columns):\n",
      " #   Column        Non-Null Count   Dtype  \n",
      "---  ------        --------------   -----  \n",
      " 0   Make          220738 non-null  object \n",
      " 1   Model         220738 non-null  object \n",
      " 2   Price         220738 non-null  int64  \n",
      " 3   Reg year      220738 non-null  int64  \n",
      " 4   Vehicle type  220738 non-null  object \n",
      " 5   Miles         220738 non-null  int64  \n",
      " 6   Engine size   220738 non-null  float64\n",
      " 7   Horsepower    220738 non-null  int64  \n",
      " 8   Trans type    220738 non-null  object \n",
      " 9   Fuel type     220738 non-null  object \n",
      "dtypes: float64(1), int64(4), object(5)\n",
      "memory usage: 16.8+ MB\n"
     ]
    }
   ],
   "source": [
    "df.info()"
   ]
  },
  {
   "cell_type": "code",
   "execution_count": 107,
   "id": "63bd1bdd-09f1-475f-b646-73a9bf996389",
   "metadata": {},
   "outputs": [],
   "source": [
    "df = df.replace([np.inf, -np.inf], np.nan)\n",
    "\n",
    "df[['Price', 'Reg year', 'Miles', 'Engine size', 'Horsepower']] = df[['Price', 'Reg year', 'Miles', 'Engine size', 'Horsepower']].apply(pd.to_numeric, errors='coerce')\n",
    "\n",
    "df = df.astype({'Make':str, 'Model':str, 'Vehicle type':str, 'Trans type':str, 'Fuel type':str})"
   ]
  },
  {
   "cell_type": "code",
   "execution_count": 108,
   "id": "ea6cd2de-d425-4196-9cd1-f5874b4d38bc",
   "metadata": {},
   "outputs": [
    {
     "data": {
      "text/plain": [
       "<bound method NDFrame.head of              Make       Model   Price  Reg year Vehicle type  Miles  \\\n",
       "0              AC       Cobra   76995      1999  Convertible  12500   \n",
       "1              AC       Cobra  109750      2001  Convertible  14000   \n",
       "2              AC       Cobra  120000      2000  Convertible   2993   \n",
       "3          Abarth  124 Spider   21440      2018  Convertible  11049   \n",
       "4          Abarth  124 Spider   17980      2017  Convertible  38625   \n",
       "...           ...         ...     ...       ...          ...    ...   \n",
       "220733      Volvo        XC90   39995      2016          SUV  46934   \n",
       "220734      Volvo        XC90   41990      2019          SUV  24322   \n",
       "220735  Westfield        2000   16995      1997  Convertible  17960   \n",
       "220736  Westfield        2000    8495      1996  Convertible  14500   \n",
       "220737  Westfield        2000   15000      2015  Convertible   2900   \n",
       "\n",
       "        Engine size  Horsepower Trans type Fuel type  \n",
       "0               4.9         225     Manual    Petrol  \n",
       "1               4.9         225     Manual    Petrol  \n",
       "2               4.9         225     Manual    Petrol  \n",
       "3               1.4         170  Automatic    Petrol  \n",
       "4               1.4         167     Manual    Petrol  \n",
       "...             ...         ...        ...       ...  \n",
       "220733          2.0         407  Automatic    Petrol  \n",
       "220734          2.0         235  Automatic    Diesel  \n",
       "220735          2.0         170     Manual    Petrol  \n",
       "220736          2.0         170     Manual    Petrol  \n",
       "220737          2.0         170     Manual    Petrol  \n",
       "\n",
       "[220733 rows x 10 columns]>"
      ]
     },
     "execution_count": 108,
     "metadata": {},
     "output_type": "execute_result"
    }
   ],
   "source": [
    "df = df.drop_duplicates()\n",
    "df = df.dropna()\n",
    "\n",
    "df.head"
   ]
  },
  {
   "cell_type": "code",
   "execution_count": 109,
   "id": "6790cdff-d09e-4a0c-8e00-853594ef0edf",
   "metadata": {},
   "outputs": [
    {
     "name": "stdout",
     "output_type": "stream",
     "text": [
      "<class 'pandas.core.frame.DataFrame'>\n",
      "Index: 220733 entries, 0 to 220737\n",
      "Data columns (total 10 columns):\n",
      " #   Column        Non-Null Count   Dtype  \n",
      "---  ------        --------------   -----  \n",
      " 0   Make          220733 non-null  object \n",
      " 1   Model         220733 non-null  object \n",
      " 2   Price         220733 non-null  int64  \n",
      " 3   Reg year      220733 non-null  int64  \n",
      " 4   Vehicle type  220733 non-null  object \n",
      " 5   Miles         220733 non-null  int64  \n",
      " 6   Engine size   220733 non-null  float64\n",
      " 7   Horsepower    220733 non-null  int64  \n",
      " 8   Trans type    220733 non-null  object \n",
      " 9   Fuel type     220733 non-null  object \n",
      "dtypes: float64(1), int64(4), object(5)\n",
      "memory usage: 18.5+ MB\n"
     ]
    }
   ],
   "source": [
    "df.info()"
   ]
  },
  {
   "cell_type": "code",
   "execution_count": 110,
   "id": "915afc29-acd0-4783-9214-546a96704e1f",
   "metadata": {},
   "outputs": [
    {
     "data": {
      "text/plain": [
       "<bound method NDFrame.head of              Make       Model   Price  Reg year Vehicle type  Miles  \\\n",
       "0              AC       Cobra   76995      1999  Convertible  12500   \n",
       "1              AC       Cobra  109750      2001  Convertible  14000   \n",
       "2              AC       Cobra  120000      2000  Convertible   2993   \n",
       "3          Abarth  124 Spider   21440      2018  Convertible  11049   \n",
       "4          Abarth  124 Spider   17980      2017  Convertible  38625   \n",
       "...           ...         ...     ...       ...          ...    ...   \n",
       "220728      Volvo        XC90   39995      2016          SUV  46934   \n",
       "220729      Volvo        XC90   41990      2019          SUV  24322   \n",
       "220730  Westfield        2000   16995      1997  Convertible  17960   \n",
       "220731  Westfield        2000    8495      1996  Convertible  14500   \n",
       "220732  Westfield        2000   15000      2015  Convertible   2900   \n",
       "\n",
       "        Engine size  Horsepower Trans type Fuel type  \n",
       "0               4.9         225     Manual    Petrol  \n",
       "1               4.9         225     Manual    Petrol  \n",
       "2               4.9         225     Manual    Petrol  \n",
       "3               1.4         170  Automatic    Petrol  \n",
       "4               1.4         167     Manual    Petrol  \n",
       "...             ...         ...        ...       ...  \n",
       "220728          2.0         407  Automatic    Petrol  \n",
       "220729          2.0         235  Automatic    Diesel  \n",
       "220730          2.0         170     Manual    Petrol  \n",
       "220731          2.0         170     Manual    Petrol  \n",
       "220732          2.0         170     Manual    Petrol  \n",
       "\n",
       "[220733 rows x 10 columns]>"
      ]
     },
     "execution_count": 110,
     "metadata": {},
     "output_type": "execute_result"
    }
   ],
   "source": [
    "df = df.reset_index(drop=True)\n",
    "\n",
    "df.head"
   ]
  },
  {
   "cell_type": "markdown",
   "id": "d5d83b4b-4aa0-4f60-a26b-59eb3c3cee64",
   "metadata": {},
   "source": [
    "A known error from when i was doing my disertation is that converting the models to string corrected some volvo models into dates. Quickly fixing this before continuing"
   ]
  },
  {
   "cell_type": "code",
   "execution_count": 111,
   "id": "e6a8944b-6975-4e17-854f-ee1d23ffc916",
   "metadata": {},
   "outputs": [],
   "source": [
    "df.Model = df.Model.replace({\"04-Apr\": \"4/4\",\"09-Mar\":\"9-3\",\"09-May\":\"9-5\"})"
   ]
  },
  {
   "cell_type": "markdown",
   "id": "4216a7e2-d229-47de-8485-204c055f4686",
   "metadata": {},
   "source": [
    "Last check for null values before encoding"
   ]
  },
  {
   "cell_type": "code",
   "execution_count": 112,
   "id": "0ef0cfcd-6e92-4a12-80e1-5475b6fd7d30",
   "metadata": {},
   "outputs": [
    {
     "name": "stdout",
     "output_type": "stream",
     "text": [
      "<class 'pandas.core.frame.DataFrame'>\n",
      "RangeIndex: 220733 entries, 0 to 220732\n",
      "Data columns (total 10 columns):\n",
      " #   Column        Non-Null Count   Dtype  \n",
      "---  ------        --------------   -----  \n",
      " 0   Make          220733 non-null  object \n",
      " 1   Model         220733 non-null  object \n",
      " 2   Price         220733 non-null  int64  \n",
      " 3   Reg year      220733 non-null  int64  \n",
      " 4   Vehicle type  220733 non-null  object \n",
      " 5   Miles         220733 non-null  int64  \n",
      " 6   Engine size   220733 non-null  float64\n",
      " 7   Horsepower    220733 non-null  int64  \n",
      " 8   Trans type    220733 non-null  object \n",
      " 9   Fuel type     220733 non-null  object \n",
      "dtypes: float64(1), int64(4), object(5)\n",
      "memory usage: 16.8+ MB\n"
     ]
    }
   ],
   "source": [
    "df.info()"
   ]
  },
  {
   "cell_type": "markdown",
   "id": "bf50fc2c-9cf8-4038-9744-70f2bced41f5",
   "metadata": {},
   "source": [
    "Standardising data to help with model training"
   ]
  },
  {
   "cell_type": "code",
   "execution_count": 113,
   "id": "230c2dd4-47d3-4a31-bcdc-06549f7b3fe0",
   "metadata": {},
   "outputs": [
    {
     "data": {
      "text/html": [
       "<div>\n",
       "<style scoped>\n",
       "    .dataframe tbody tr th:only-of-type {\n",
       "        vertical-align: middle;\n",
       "    }\n",
       "\n",
       "    .dataframe tbody tr th {\n",
       "        vertical-align: top;\n",
       "    }\n",
       "\n",
       "    .dataframe thead th {\n",
       "        text-align: right;\n",
       "    }\n",
       "</style>\n",
       "<table border=\"1\" class=\"dataframe\">\n",
       "  <thead>\n",
       "    <tr style=\"text-align: right;\">\n",
       "      <th></th>\n",
       "      <th>Price</th>\n",
       "      <th>Reg year</th>\n",
       "      <th>Miles</th>\n",
       "      <th>Engine size</th>\n",
       "      <th>Horsepower</th>\n",
       "    </tr>\n",
       "  </thead>\n",
       "  <tbody>\n",
       "    <tr>\n",
       "      <th>count</th>\n",
       "      <td>2.207330e+05</td>\n",
       "      <td>220733.000000</td>\n",
       "      <td>2.207330e+05</td>\n",
       "      <td>220733.000000</td>\n",
       "      <td>220733.000000</td>\n",
       "    </tr>\n",
       "    <tr>\n",
       "      <th>mean</th>\n",
       "      <td>1.995900e+04</td>\n",
       "      <td>2015.019902</td>\n",
       "      <td>4.967118e+04</td>\n",
       "      <td>1.945273</td>\n",
       "      <td>172.766496</td>\n",
       "    </tr>\n",
       "    <tr>\n",
       "      <th>std</th>\n",
       "      <td>2.451618e+04</td>\n",
       "      <td>4.751485</td>\n",
       "      <td>3.921319e+04</td>\n",
       "      <td>0.899134</td>\n",
       "      <td>112.450120</td>\n",
       "    </tr>\n",
       "    <tr>\n",
       "      <th>min</th>\n",
       "      <td>2.950000e+02</td>\n",
       "      <td>1901.000000</td>\n",
       "      <td>1.000000e+00</td>\n",
       "      <td>0.000000</td>\n",
       "      <td>0.000000</td>\n",
       "    </tr>\n",
       "    <tr>\n",
       "      <th>25%</th>\n",
       "      <td>7.995000e+03</td>\n",
       "      <td>2012.000000</td>\n",
       "      <td>1.977900e+04</td>\n",
       "      <td>1.400000</td>\n",
       "      <td>111.000000</td>\n",
       "    </tr>\n",
       "    <tr>\n",
       "      <th>50%</th>\n",
       "      <td>1.495000e+04</td>\n",
       "      <td>2016.000000</td>\n",
       "      <td>4.095000e+04</td>\n",
       "      <td>1.900000</td>\n",
       "      <td>146.000000</td>\n",
       "    </tr>\n",
       "    <tr>\n",
       "      <th>75%</th>\n",
       "      <td>2.380000e+04</td>\n",
       "      <td>2018.000000</td>\n",
       "      <td>7.291900e+04</td>\n",
       "      <td>2.100000</td>\n",
       "      <td>195.000000</td>\n",
       "    </tr>\n",
       "    <tr>\n",
       "      <th>max</th>\n",
       "      <td>2.340000e+06</td>\n",
       "      <td>2022.000000</td>\n",
       "      <td>5.000000e+06</td>\n",
       "      <td>8.300000</td>\n",
       "      <td>19000.000000</td>\n",
       "    </tr>\n",
       "  </tbody>\n",
       "</table>\n",
       "</div>"
      ],
      "text/plain": [
       "              Price       Reg year         Miles    Engine size     Horsepower\n",
       "count  2.207330e+05  220733.000000  2.207330e+05  220733.000000  220733.000000\n",
       "mean   1.995900e+04    2015.019902  4.967118e+04       1.945273     172.766496\n",
       "std    2.451618e+04       4.751485  3.921319e+04       0.899134     112.450120\n",
       "min    2.950000e+02    1901.000000  1.000000e+00       0.000000       0.000000\n",
       "25%    7.995000e+03    2012.000000  1.977900e+04       1.400000     111.000000\n",
       "50%    1.495000e+04    2016.000000  4.095000e+04       1.900000     146.000000\n",
       "75%    2.380000e+04    2018.000000  7.291900e+04       2.100000     195.000000\n",
       "max    2.340000e+06    2022.000000  5.000000e+06       8.300000   19000.000000"
      ]
     },
     "execution_count": 113,
     "metadata": {},
     "output_type": "execute_result"
    }
   ],
   "source": [
    "df.describe()"
   ]
  },
  {
   "cell_type": "code",
   "execution_count": 114,
   "id": "99c03f2b-f217-40a2-b474-23ff3926ab28",
   "metadata": {},
   "outputs": [
    {
     "data": {
      "text/plain": [
       "<Axes: ylabel='Frequency'>"
      ]
     },
     "execution_count": 114,
     "metadata": {},
     "output_type": "execute_result"
    },
    {
     "data": {
      "image/png": "[encoded data removed]",
      "text/plain": [
       "<Figure size 1000x2000 with 1 Axes>"
      ]
     },
     "metadata": {},
     "output_type": "display_data"
    }
   ],
   "source": [
    "df['Price'].plot(kind='hist', bins=1000, figsize=(10,20))"
   ]
  },
  {
   "cell_type": "markdown",
   "id": "f5ae570b-676e-4444-8f30-a580e17580af",
   "metadata": {},
   "source": [
    "Seems like there are a few extremely high price cars in the data. we will delete these as well as the ones that are listed for less that 400 GBP as they likely dont work. we will limit upper price to 100,000 GBP"
   ]
  },
  {
   "cell_type": "code",
   "execution_count": 115,
   "id": "c4592803-c8d2-46f2-ada9-9a9ce83ca726",
   "metadata": {},
   "outputs": [],
   "source": [
    "df = df.loc[df['Price'] < 100000]"
   ]
  },
  {
   "cell_type": "code",
   "execution_count": 116,
   "id": "138f5527-16ed-48c3-a26d-435c6f56eed4",
   "metadata": {},
   "outputs": [],
   "source": [
    "df = df.loc[df['Price'] > 400]"
   ]
  },
  {
   "cell_type": "code",
   "execution_count": 117,
   "id": "42275e2f-6af7-4104-8c46-e2b3902e55e7",
   "metadata": {},
   "outputs": [
    {
     "data": {
      "text/html": [
       "<div>\n",
       "<style scoped>\n",
       "    .dataframe tbody tr th:only-of-type {\n",
       "        vertical-align: middle;\n",
       "    }\n",
       "\n",
       "    .dataframe tbody tr th {\n",
       "        vertical-align: top;\n",
       "    }\n",
       "\n",
       "    .dataframe thead th {\n",
       "        text-align: right;\n",
       "    }\n",
       "</style>\n",
       "<table border=\"1\" class=\"dataframe\">\n",
       "  <thead>\n",
       "    <tr style=\"text-align: right;\">\n",
       "      <th></th>\n",
       "      <th>Price</th>\n",
       "      <th>Reg year</th>\n",
       "      <th>Miles</th>\n",
       "      <th>Engine size</th>\n",
       "      <th>Horsepower</th>\n",
       "    </tr>\n",
       "  </thead>\n",
       "  <tbody>\n",
       "    <tr>\n",
       "      <th>count</th>\n",
       "      <td>218142.000000</td>\n",
       "      <td>218142.000000</td>\n",
       "      <td>2.181420e+05</td>\n",
       "      <td>218142.000000</td>\n",
       "      <td>218142.000000</td>\n",
       "    </tr>\n",
       "    <tr>\n",
       "      <th>mean</th>\n",
       "      <td>18171.993403</td>\n",
       "      <td>2014.982654</td>\n",
       "      <td>5.013592e+04</td>\n",
       "      <td>1.917305</td>\n",
       "      <td>168.376837</td>\n",
       "    </tr>\n",
       "    <tr>\n",
       "      <th>std</th>\n",
       "      <td>14995.216023</td>\n",
       "      <td>4.742928</td>\n",
       "      <td>3.919199e+04</td>\n",
       "      <td>0.849319</td>\n",
       "      <td>103.795857</td>\n",
       "    </tr>\n",
       "    <tr>\n",
       "      <th>min</th>\n",
       "      <td>450.000000</td>\n",
       "      <td>1901.000000</td>\n",
       "      <td>1.000000e+00</td>\n",
       "      <td>0.000000</td>\n",
       "      <td>0.000000</td>\n",
       "    </tr>\n",
       "    <tr>\n",
       "      <th>25%</th>\n",
       "      <td>7990.000000</td>\n",
       "      <td>2012.000000</td>\n",
       "      <td>2.015900e+04</td>\n",
       "      <td>1.400000</td>\n",
       "      <td>111.000000</td>\n",
       "    </tr>\n",
       "    <tr>\n",
       "      <th>50%</th>\n",
       "      <td>14700.000000</td>\n",
       "      <td>2016.000000</td>\n",
       "      <td>4.140000e+04</td>\n",
       "      <td>1.800000</td>\n",
       "      <td>143.000000</td>\n",
       "    </tr>\n",
       "    <tr>\n",
       "      <th>75%</th>\n",
       "      <td>23250.000000</td>\n",
       "      <td>2018.000000</td>\n",
       "      <td>7.304525e+04</td>\n",
       "      <td>2.100000</td>\n",
       "      <td>192.000000</td>\n",
       "    </tr>\n",
       "    <tr>\n",
       "      <th>max</th>\n",
       "      <td>99999.000000</td>\n",
       "      <td>2022.000000</td>\n",
       "      <td>5.000000e+06</td>\n",
       "      <td>8.300000</td>\n",
       "      <td>19000.000000</td>\n",
       "    </tr>\n",
       "  </tbody>\n",
       "</table>\n",
       "</div>"
      ],
      "text/plain": [
       "               Price       Reg year         Miles    Engine size  \\\n",
       "count  218142.000000  218142.000000  2.181420e+05  218142.000000   \n",
       "mean    18171.993403    2014.982654  5.013592e+04       1.917305   \n",
       "std     14995.216023       4.742928  3.919199e+04       0.849319   \n",
       "min       450.000000    1901.000000  1.000000e+00       0.000000   \n",
       "25%      7990.000000    2012.000000  2.015900e+04       1.400000   \n",
       "50%     14700.000000    2016.000000  4.140000e+04       1.800000   \n",
       "75%     23250.000000    2018.000000  7.304525e+04       2.100000   \n",
       "max     99999.000000    2022.000000  5.000000e+06       8.300000   \n",
       "\n",
       "          Horsepower  \n",
       "count  218142.000000  \n",
       "mean      168.376837  \n",
       "std       103.795857  \n",
       "min         0.000000  \n",
       "25%       111.000000  \n",
       "50%       143.000000  \n",
       "75%       192.000000  \n",
       "max     19000.000000  "
      ]
     },
     "execution_count": 117,
     "metadata": {},
     "output_type": "execute_result"
    }
   ],
   "source": [
    "df.describe()"
   ]
  },
  {
   "cell_type": "code",
   "execution_count": 118,
   "id": "e0e75ec6-6e74-4703-a5fc-5a8982f24572",
   "metadata": {},
   "outputs": [
    {
     "data": {
      "text/plain": [
       "<Axes: ylabel='Frequency'>"
      ]
     },
     "execution_count": 118,
     "metadata": {},
     "output_type": "execute_result"
    },
    {
     "data": {
      "image/png": "[encoded data removed]",
      "text/plain": [
       "<Figure size 1000x2000 with 1 Axes>"
      ]
     },
     "metadata": {},
     "output_type": "display_data"
    }
   ],
   "source": [
    "df['Price'].plot(kind='hist', bins=1000, figsize=(10,20))"
   ]
  },
  {
   "cell_type": "markdown",
   "id": "c8dfb087-3a5f-4228-866a-0e8402ee2f8c",
   "metadata": {},
   "source": [
    "We will also remove any cars with over 1000 horsepower as it is unlikley that this is filled in properly"
   ]
  },
  {
   "cell_type": "code",
   "execution_count": 119,
   "id": "3c22f0e8-0560-4817-b12d-3d044fa72a41",
   "metadata": {},
   "outputs": [],
   "source": [
    "df = df.loc[df['Horsepower'] < 1000]"
   ]
  },
  {
   "cell_type": "code",
   "execution_count": 120,
   "id": "1fd53458-6e5a-411d-9ad2-0d473d174d05",
   "metadata": {},
   "outputs": [
    {
     "data": {
      "text/html": [
       "<div>\n",
       "<style scoped>\n",
       "    .dataframe tbody tr th:only-of-type {\n",
       "        vertical-align: middle;\n",
       "    }\n",
       "\n",
       "    .dataframe tbody tr th {\n",
       "        vertical-align: top;\n",
       "    }\n",
       "\n",
       "    .dataframe thead th {\n",
       "        text-align: right;\n",
       "    }\n",
       "</style>\n",
       "<table border=\"1\" class=\"dataframe\">\n",
       "  <thead>\n",
       "    <tr style=\"text-align: right;\">\n",
       "      <th></th>\n",
       "      <th>Price</th>\n",
       "      <th>Reg year</th>\n",
       "      <th>Miles</th>\n",
       "      <th>Engine size</th>\n",
       "      <th>Horsepower</th>\n",
       "    </tr>\n",
       "  </thead>\n",
       "  <tbody>\n",
       "    <tr>\n",
       "      <th>count</th>\n",
       "      <td>218139.000000</td>\n",
       "      <td>218139.000000</td>\n",
       "      <td>2.181390e+05</td>\n",
       "      <td>218139.000000</td>\n",
       "      <td>218139.000000</td>\n",
       "    </tr>\n",
       "    <tr>\n",
       "      <th>mean</th>\n",
       "      <td>18171.910988</td>\n",
       "      <td>2014.982617</td>\n",
       "      <td>5.013555e+04</td>\n",
       "      <td>1.917296</td>\n",
       "      <td>168.271006</td>\n",
       "    </tr>\n",
       "    <tr>\n",
       "      <th>std</th>\n",
       "      <td>14995.219673</td>\n",
       "      <td>4.742945</td>\n",
       "      <td>3.919140e+04</td>\n",
       "      <td>0.849321</td>\n",
       "      <td>95.427623</td>\n",
       "    </tr>\n",
       "    <tr>\n",
       "      <th>min</th>\n",
       "      <td>450.000000</td>\n",
       "      <td>1901.000000</td>\n",
       "      <td>1.000000e+00</td>\n",
       "      <td>0.000000</td>\n",
       "      <td>0.000000</td>\n",
       "    </tr>\n",
       "    <tr>\n",
       "      <th>25%</th>\n",
       "      <td>7990.000000</td>\n",
       "      <td>2012.000000</td>\n",
       "      <td>2.015900e+04</td>\n",
       "      <td>1.400000</td>\n",
       "      <td>111.000000</td>\n",
       "    </tr>\n",
       "    <tr>\n",
       "      <th>50%</th>\n",
       "      <td>14700.000000</td>\n",
       "      <td>2016.000000</td>\n",
       "      <td>4.140000e+04</td>\n",
       "      <td>1.800000</td>\n",
       "      <td>143.000000</td>\n",
       "    </tr>\n",
       "    <tr>\n",
       "      <th>75%</th>\n",
       "      <td>23250.000000</td>\n",
       "      <td>2018.000000</td>\n",
       "      <td>7.304450e+04</td>\n",
       "      <td>2.100000</td>\n",
       "      <td>192.000000</td>\n",
       "    </tr>\n",
       "    <tr>\n",
       "      <th>max</th>\n",
       "      <td>99999.000000</td>\n",
       "      <td>2022.000000</td>\n",
       "      <td>5.000000e+06</td>\n",
       "      <td>8.300000</td>\n",
       "      <td>999.000000</td>\n",
       "    </tr>\n",
       "  </tbody>\n",
       "</table>\n",
       "</div>"
      ],
      "text/plain": [
       "               Price       Reg year         Miles    Engine size  \\\n",
       "count  218139.000000  218139.000000  2.181390e+05  218139.000000   \n",
       "mean    18171.910988    2014.982617  5.013555e+04       1.917296   \n",
       "std     14995.219673       4.742945  3.919140e+04       0.849321   \n",
       "min       450.000000    1901.000000  1.000000e+00       0.000000   \n",
       "25%      7990.000000    2012.000000  2.015900e+04       1.400000   \n",
       "50%     14700.000000    2016.000000  4.140000e+04       1.800000   \n",
       "75%     23250.000000    2018.000000  7.304450e+04       2.100000   \n",
       "max     99999.000000    2022.000000  5.000000e+06       8.300000   \n",
       "\n",
       "          Horsepower  \n",
       "count  218139.000000  \n",
       "mean      168.271006  \n",
       "std        95.427623  \n",
       "min         0.000000  \n",
       "25%       111.000000  \n",
       "50%       143.000000  \n",
       "75%       192.000000  \n",
       "max       999.000000  "
      ]
     },
     "execution_count": 120,
     "metadata": {},
     "output_type": "execute_result"
    }
   ],
   "source": [
    "df.describe()"
   ]
  },
  {
   "cell_type": "markdown",
   "id": "93597902-b84b-43a3-96ec-752a0924eed5",
   "metadata": {},
   "source": [
    "We will also remove any models that appear less than 10 times as the prediction accuracy with so few datapoints may be affected"
   ]
  },
  {
   "cell_type": "code",
   "execution_count": 121,
   "id": "93bdc7f4-b493-44d2-9ed0-8f9a7090963f",
   "metadata": {},
   "outputs": [],
   "source": [
    "v = df.Model.value_counts()\n",
    "df = df[df.Model.isin(v.index[v.gt(10)])]"
   ]
  },
  {
   "cell_type": "code",
   "execution_count": 122,
   "id": "02be60ad-57bc-48de-91a1-04a281246040",
   "metadata": {},
   "outputs": [
    {
     "data": {
      "text/plain": [
       "Model\n",
       "500               1073\n",
       "C Class           1009\n",
       "Hatch             1008\n",
       "Leon              1008\n",
       "Fiesta            1002\n",
       "                  ... \n",
       "4C                  11\n",
       "12C                 11\n",
       "Colt Cabriolet      11\n",
       "TX                  11\n",
       "A2                  11\n",
       "Name: count, Length: 659, dtype: int64"
      ]
     },
     "execution_count": 122,
     "metadata": {},
     "output_type": "execute_result"
    }
   ],
   "source": [
    "df.Model.value_counts()"
   ]
  },
  {
   "cell_type": "code",
   "execution_count": 123,
   "id": "f60f6ea4-f664-4ae7-a803-23fcfe231dd4",
   "metadata": {},
   "outputs": [
    {
     "data": {
      "text/plain": [
       "<bound method NDFrame.head of           Make       Model  Price  Reg year Vehicle type  Miles  Engine size  \\\n",
       "3       Abarth  124 Spider  21440      2018  Convertible  11049          1.4   \n",
       "4       Abarth  124 Spider  17980      2017  Convertible  38625          1.4   \n",
       "5       Abarth  124 Spider  17550      2018  Convertible  47831          1.4   \n",
       "6       Abarth  124 Spider  20750      2018  Convertible  26713          1.4   \n",
       "7       Abarth  124 Spider  21489      2017  Convertible  10360          1.4   \n",
       "...        ...         ...    ...       ...          ...    ...          ...   \n",
       "220725   Volvo        XC90  39995      2018          SUV  20531          2.0   \n",
       "220726   Volvo        XC90  64350      2021          SUV   4181          2.0   \n",
       "220727   Volvo        XC90  49599      2020          SUV  15184          2.0   \n",
       "220728   Volvo        XC90  39995      2016          SUV  46934          2.0   \n",
       "220729   Volvo        XC90  41990      2019          SUV  24322          2.0   \n",
       "\n",
       "        Horsepower Trans type Fuel type  \n",
       "3              170  Automatic    Petrol  \n",
       "4              167     Manual    Petrol  \n",
       "5              167  Automatic    Petrol  \n",
       "6              170  Automatic    Petrol  \n",
       "7              170     Manual    Petrol  \n",
       "...            ...        ...       ...  \n",
       "220725         250  Automatic    Petrol  \n",
       "220726         390  Automatic    Petrol  \n",
       "220727         235  Automatic    Diesel  \n",
       "220728         407  Automatic    Petrol  \n",
       "220729         235  Automatic    Diesel  \n",
       "\n",
       "[217025 rows x 10 columns]>"
      ]
     },
     "execution_count": 123,
     "metadata": {},
     "output_type": "execute_result"
    }
   ],
   "source": [
    "df.head"
   ]
  },
  {
   "cell_type": "code",
   "execution_count": 126,
   "id": "bdfb26a5-9264-41c2-8e54-336b4e770e10",
   "metadata": {},
   "outputs": [],
   "source": [
    "df.reset_index(drop = True, inplace = True)"
   ]
  },
  {
   "cell_type": "code",
   "execution_count": 127,
   "id": "47fb895b-fdca-4fee-8515-27276936c90f",
   "metadata": {},
   "outputs": [
    {
     "data": {
      "text/plain": [
       "<bound method NDFrame.head of           Make       Model  Price  Reg year Vehicle type  Miles  Engine size  \\\n",
       "0       Abarth  124 Spider  21440      2018  Convertible  11049          1.4   \n",
       "1       Abarth  124 Spider  17980      2017  Convertible  38625          1.4   \n",
       "2       Abarth  124 Spider  17550      2018  Convertible  47831          1.4   \n",
       "3       Abarth  124 Spider  20750      2018  Convertible  26713          1.4   \n",
       "4       Abarth  124 Spider  21489      2017  Convertible  10360          1.4   \n",
       "...        ...         ...    ...       ...          ...    ...          ...   \n",
       "217020   Volvo        XC90  39995      2018          SUV  20531          2.0   \n",
       "217021   Volvo        XC90  64350      2021          SUV   4181          2.0   \n",
       "217022   Volvo        XC90  49599      2020          SUV  15184          2.0   \n",
       "217023   Volvo        XC90  39995      2016          SUV  46934          2.0   \n",
       "217024   Volvo        XC90  41990      2019          SUV  24322          2.0   \n",
       "\n",
       "        Horsepower Trans type Fuel type  \n",
       "0              170  Automatic    Petrol  \n",
       "1              167     Manual    Petrol  \n",
       "2              167  Automatic    Petrol  \n",
       "3              170  Automatic    Petrol  \n",
       "4              170     Manual    Petrol  \n",
       "...            ...        ...       ...  \n",
       "217020         250  Automatic    Petrol  \n",
       "217021         390  Automatic    Petrol  \n",
       "217022         235  Automatic    Diesel  \n",
       "217023         407  Automatic    Petrol  \n",
       "217024         235  Automatic    Diesel  \n",
       "\n",
       "[217025 rows x 10 columns]>"
      ]
     },
     "execution_count": 127,
     "metadata": {},
     "output_type": "execute_result"
    }
   ],
   "source": [
    "df.head"
   ]
  },
  {
   "cell_type": "markdown",
   "id": "b5dcaa07-3093-4373-ae7d-d02337b5760d",
   "metadata": {},
   "source": [
    "Creating data base to help impletment some features of final app"
   ]
  },
  {
   "cell_type": "code",
   "execution_count": 128,
   "id": "96037f19-4c66-4cc4-8e11-2f5c7e8c34b2",
   "metadata": {},
   "outputs": [],
   "source": [
    "df.to_csv('Database.csv', index = False)"
   ]
  },
  {
   "cell_type": "code",
   "execution_count": 129,
   "id": "3c914086-95de-47a5-8dc3-e97575bde445",
   "metadata": {},
   "outputs": [],
   "source": [
    "make = LabelEncoder()\n",
    "model = LabelEncoder()\n",
    "vec_type = LabelEncoder()\n",
    "tran_type = LabelEncoder()\n",
    "fuel_type = LabelEncoder()\n",
    "df['Make'] = make.fit_transform(df['Make'])\n",
    "df['Model'] = model.fit_transform(df['Model'])\n",
    "df['Vehicle type'] = vec_type.fit_transform(df['Vehicle type'])\n",
    "df['Trans type'] = tran_type.fit_transform(df['Trans type'])\n",
    "df['Fuel type'] = fuel_type.fit_transform (df['Fuel type'])\n",
    "\n",
    "X = df.drop(columns='Price').values\n",
    "y = df['Price'].values\n",
    "\n",
    "x_train, x_test, y_train, y_test = train_test_split(X,y, test_size=0.2)"
   ]
  },
  {
   "cell_type": "code",
   "execution_count": 130,
   "id": "d3db617f-f41b-4af5-bb24-bd9f76283ed1",
   "metadata": {},
   "outputs": [],
   "source": [
    "rf = RandomForestRegressor()"
   ]
  },
  {
   "cell_type": "code",
   "execution_count": null,
   "id": "5863b5fe-32bd-478d-b3d4-70bbe4b43545",
   "metadata": {},
   "outputs": [],
   "source": [
    "rf.fit(x_train, y_train)"
   ]
  },
  {
   "cell_type": "code",
   "execution_count": null,
   "id": "7295dc3b-e117-478f-9fff-8c96d7efaf01",
   "metadata": {},
   "outputs": [],
   "source": [
    "pred = rf.predict(x_test)"
   ]
  },
  {
   "cell_type": "code",
   "execution_count": null,
   "id": "c09f06d7-1a5e-4e29-aa54-295a1f19d562",
   "metadata": {},
   "outputs": [],
   "source": [
    "from sklearn.metrics import r2_score\n",
    "r2 = r2_score(y_test, pred)\n",
    "mae = mean_absolute_error(y_test, pred)\n",
    "mse = mean_squared_error(y_test, pred)\n",
    "mape = mean_absolute_percentage_error(y_test, pred)\n",
    "\n",
    "print('R2 score: ' + str(r2))\n",
    "print('MAE score: ' + str(mae))\n",
    "print('MSE score: ' + str(mse))\n",
    "print('MAPE score: ' + str(mape))"
   ]
  },
  {
   "cell_type": "code",
   "execution_count": null,
   "id": "079b6acd-d209-43ef-96c1-b7107220f28c",
   "metadata": {},
   "outputs": [],
   "source": [
    "importances = rf.feature_importances_\n",
    "indices = np.argsort(importances)\n",
    "\n",
    "features = df.drop(columns=['Price']).columns\n",
    "\n",
    "plt.title('Feature Importances')\n",
    "plt.barh(range(len(indices)), importances[indices], align='center')\n",
    "plt.yticks(range(len(indices)), [features[i] for i in indices])\n",
    "plt.xlabel('Relative Importance')\n",
    "plt.show()"
   ]
  },
  {
   "cell_type": "code",
   "execution_count": null,
   "id": "d07026ca-3def-446b-a796-ccaaf8a5243e",
   "metadata": {},
   "outputs": [],
   "source": [
    "joblib.dump(rf, 'RF_Model.joblib')"
   ]
  },
  {
   "cell_type": "code",
   "execution_count": null,
   "id": "ef0002aa-805b-4998-8054-ec25ef0db7ef",
   "metadata": {},
   "outputs": [],
   "source": [
    "joblib.dump(make, 'make_classes.joblib')\n",
    "joblib.dump(model, 'model_classes.joblib')\n",
    "joblib.dump(vec_type, 'vec_type_classes.joblib')\n",
    "joblib.dump(tran_type, 'tran_type_classes.joblib')\n",
    "joblib.dump(fuel_type, 'fuel_type_classes.joblib')"
   ]
  },
  {
   "cell_type": "code",
   "execution_count": null,
   "id": "5720cf19-e301-425f-af60-6e9ec108110d",
   "metadata": {},
   "outputs": [],
   "source": []
  }
 ],
 "metadata": {
  "kernelspec": {
   "display_name": "Python 3 (ipykernel)",
   "language": "python",
   "name": "python3"
  },
  "language_info": {
   "codemirror_mode": {
    "name": "ipython",
    "version": 3
   },
   "file_extension": ".py",
   "mimetype": "text/x-python",
   "name": "python",
   "nbconvert_exporter": "python",
   "pygments_lexer": "ipython3",
   "version": "3.10.14"
  }
 },
 "nbformat": 4,
 "nbformat_minor": 5
}
