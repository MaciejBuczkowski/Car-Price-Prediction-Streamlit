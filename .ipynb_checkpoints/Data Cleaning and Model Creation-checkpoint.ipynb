{
 "cells": [
  {
   "cell_type": "code",
   "execution_count": 1,
   "id": "9cf97a24-f2c0-42a4-bb4d-435801d1d43a",
   "metadata": {},
   "outputs": [],
   "source": [
    "import numpy as np\n",
    "import csv\n",
    "import joblib\n",
    "from sklearn.preprocessing import LabelEncoder\n",
    "from sklearn.utils import shuffle\n",
    "from sklearn.model_selection import train_test_split\n",
    "import matplotlib.pyplot as plt\n",
    "import pandas as pd\n",
    "from sklearn.ensemble import RandomForestRegressor\n",
    "from sklearn.metrics import mean_absolute_error\n",
    "from sklearn.metrics import mean_squared_error\n",
    "from sklearn.metrics import mean_absolute_percentage_error"
   ]
  },
  {
   "cell_type": "markdown",
   "id": "ddc4669d-efe2-475c-98c3-66e085f4d479",
   "metadata": {},
   "source": [
    "Import data and clean"
   ]
  },
  {
   "cell_type": "code",
   "execution_count": 31,
   "id": "9156356a-f88c-416e-8f4d-b953520ce3c0",
   "metadata": {},
   "outputs": [],
   "source": [
    "df = pd.read_csv('CarData.csv')"
   ]
  },
  {
   "cell_type": "code",
   "execution_count": 32,
   "id": "d6328c9c-9052-499a-9c34-e2157ee2089d",
   "metadata": {},
   "outputs": [
    {
     "data": {
      "text/plain": [
       "<bound method NDFrame.head of              Make          Model   Price Reg year Vehicle type  Miles  \\\n",
       "0              AC          Cobra  106500     2021  Convertible   1000   \n",
       "1              AC          Cobra   76995     1999  Convertible  12500   \n",
       "2              AC          Cobra  109750     2001  Convertible  14000   \n",
       "3              AC          Cobra  145500     2020  Convertible    500   \n",
       "4              AC          Cobra  109995     2000  Convertible  21600   \n",
       "...           ...            ...     ...      ...          ...    ...   \n",
       "324134  Westfield          Sport   14995     2007         6000  miles   \n",
       "324135  Westfield          Sport   14995     2007         6000  miles   \n",
       "324136      Zenos            E10   22995     2016         2000  miles   \n",
       "324137      Zenos            E10   22995     2016         2000  miles   \n",
       "324138     Zimmer  Golden Spirit   29999     1981        Coupe  36000   \n",
       "\n",
       "       Engine size Horsepower Trans type Fuel type  \n",
       "0              6.2     Manual     Petrol       NaN  \n",
       "1              4.9        225     Manual    Petrol  \n",
       "2              4.9        225     Manual    Petrol  \n",
       "3           Manual     Petrol        NaN       NaN  \n",
       "4              3.5     Manual     Petrol       NaN  \n",
       "...            ...        ...        ...       ...  \n",
       "324134         NaN        NaN        NaN       NaN  \n",
       "324135         NaN        NaN        NaN       NaN  \n",
       "324136         NaN        NaN        NaN       NaN  \n",
       "324137         NaN        NaN        NaN       NaN  \n",
       "324138           5  Automatic     Petrol       NaN  \n",
       "\n",
       "[324139 rows x 10 columns]>"
      ]
     },
     "execution_count": 32,
     "metadata": {},
     "output_type": "execute_result"
    }
   ],
   "source": [
    "df.head"
   ]
  },
  {
   "cell_type": "code",
   "execution_count": 33,
   "id": "fe33e220-1746-400e-9cc6-5096a7e6a11d",
   "metadata": {},
   "outputs": [
    {
     "name": "stdout",
     "output_type": "stream",
     "text": [
      "<class 'pandas.core.frame.DataFrame'>\n",
      "RangeIndex: 324139 entries, 0 to 324138\n",
      "Data columns (total 10 columns):\n",
      " #   Column        Non-Null Count   Dtype \n",
      "---  ------        --------------   ----- \n",
      " 0   Make          324139 non-null  object\n",
      " 1   Model         324139 non-null  object\n",
      " 2   Price         324139 non-null  object\n",
      " 3   Reg year      324139 non-null  object\n",
      " 4   Vehicle type  324139 non-null  object\n",
      " 5   Miles         324139 non-null  object\n",
      " 6   Engine size   323940 non-null  object\n",
      " 7   Horsepower    323564 non-null  object\n",
      " 8   Trans type    314482 non-null  object\n",
      " 9   Fuel type     307495 non-null  object\n",
      "dtypes: object(10)\n",
      "memory usage: 24.7+ MB\n"
     ]
    }
   ],
   "source": [
    "df.info()"
   ]
  },
  {
   "cell_type": "code",
   "execution_count": 38,
   "id": "63bd1bdd-09f1-475f-b646-73a9bf996389",
   "metadata": {},
   "outputs": [],
   "source": [
    "df = df.replace([np.inf, -np.inf], np.nan)\n",
    "\n",
    "df[['Price', 'Reg year', 'Miles', 'Engine size', 'Horsepower']] = df[['Price', 'Reg year', 'Miles', 'Engine size', 'Horsepower']].apply(pd.to_numeric, errors='coerce')\n",
    "\n",
    "df = df.astype({'Make':str, 'Model':str, 'Vehicle type':str, 'Trans type':str, 'Fuel type':str})"
   ]
  },
  {
   "cell_type": "code",
   "execution_count": 40,
   "id": "ea6cd2de-d425-4196-9cd1-f5874b4d38bc",
   "metadata": {},
   "outputs": [
    {
     "data": {
      "text/plain": [
       "<bound method NDFrame.head of              Make       Model     Price  Reg year Vehicle type    Miles  \\\n",
       "1              AC       Cobra   76995.0    1999.0  Convertible  12500.0   \n",
       "2              AC       Cobra  109750.0    2001.0  Convertible  14000.0   \n",
       "6              AC       Cobra  120000.0    2000.0  Convertible   2993.0   \n",
       "13         Abarth  124 Spider   21440.0    2018.0  Convertible  11049.0   \n",
       "14         Abarth  124 Spider   17980.0    2017.0  Convertible  38625.0   \n",
       "...           ...         ...       ...       ...          ...      ...   \n",
       "324120      Volvo        XC90   39995.0    2016.0          SUV  46934.0   \n",
       "324121      Volvo        XC90   41990.0    2019.0          SUV  24322.0   \n",
       "324125  Westfield        2000   16995.0    1997.0  Convertible  17960.0   \n",
       "324126  Westfield        2000    8495.0    1996.0  Convertible  14500.0   \n",
       "324127  Westfield        2000   15000.0    2015.0  Convertible   2900.0   \n",
       "\n",
       "        Engine size  Horsepower Trans type Fuel type  \n",
       "1               4.9       225.0     Manual    Petrol  \n",
       "2               4.9       225.0     Manual    Petrol  \n",
       "6               4.9       225.0     Manual    Petrol  \n",
       "13              1.4       170.0  Automatic    Petrol  \n",
       "14              1.4       167.0     Manual    Petrol  \n",
       "...             ...         ...        ...       ...  \n",
       "324120          2.0       407.0  Automatic    Petrol  \n",
       "324121          2.0       235.0  Automatic    Diesel  \n",
       "324125          2.0       170.0     Manual    Petrol  \n",
       "324126          2.0       170.0     Manual    Petrol  \n",
       "324127          2.0       170.0     Manual    Petrol  \n",
       "\n",
       "[216501 rows x 10 columns]>"
      ]
     },
     "execution_count": 40,
     "metadata": {},
     "output_type": "execute_result"
    }
   ],
   "source": [
    "df = df.drop_duplicates()\n",
    "df = df.dropna()\n",
    "\n",
    "df.head"
   ]
  },
  {
   "cell_type": "code",
   "execution_count": 42,
   "id": "6790cdff-d09e-4a0c-8e00-853594ef0edf",
   "metadata": {},
   "outputs": [
    {
     "name": "stdout",
     "output_type": "stream",
     "text": [
      "<class 'pandas.core.frame.DataFrame'>\n",
      "Index: 216501 entries, 1 to 324127\n",
      "Data columns (total 10 columns):\n",
      " #   Column        Non-Null Count   Dtype  \n",
      "---  ------        --------------   -----  \n",
      " 0   Make          216501 non-null  object \n",
      " 1   Model         216501 non-null  object \n",
      " 2   Price         216501 non-null  float64\n",
      " 3   Reg year      216501 non-null  float64\n",
      " 4   Vehicle type  216501 non-null  object \n",
      " 5   Miles         216501 non-null  float64\n",
      " 6   Engine size   216501 non-null  float64\n",
      " 7   Horsepower    216501 non-null  float64\n",
      " 8   Trans type    216501 non-null  object \n",
      " 9   Fuel type     216501 non-null  object \n",
      "dtypes: float64(5), object(5)\n",
      "memory usage: 18.2+ MB\n"
     ]
    }
   ],
   "source": [
    "df.info()"
   ]
  },
  {
   "cell_type": "code",
   "execution_count": 44,
   "id": "915afc29-acd0-4783-9214-546a96704e1f",
   "metadata": {},
   "outputs": [
    {
     "data": {
      "text/plain": [
       "<bound method NDFrame.head of              Make       Model     Price  Reg year Vehicle type    Miles  \\\n",
       "0              AC       Cobra   76995.0    1999.0  Convertible  12500.0   \n",
       "1              AC       Cobra  109750.0    2001.0  Convertible  14000.0   \n",
       "2              AC       Cobra  120000.0    2000.0  Convertible   2993.0   \n",
       "3          Abarth  124 Spider   21440.0    2018.0  Convertible  11049.0   \n",
       "4          Abarth  124 Spider   17980.0    2017.0  Convertible  38625.0   \n",
       "...           ...         ...       ...       ...          ...      ...   \n",
       "216496      Volvo        XC90   39995.0    2016.0          SUV  46934.0   \n",
       "216497      Volvo        XC90   41990.0    2019.0          SUV  24322.0   \n",
       "216498  Westfield        2000   16995.0    1997.0  Convertible  17960.0   \n",
       "216499  Westfield        2000    8495.0    1996.0  Convertible  14500.0   \n",
       "216500  Westfield        2000   15000.0    2015.0  Convertible   2900.0   \n",
       "\n",
       "        Engine size  Horsepower Trans type Fuel type  \n",
       "0               4.9       225.0     Manual    Petrol  \n",
       "1               4.9       225.0     Manual    Petrol  \n",
       "2               4.9       225.0     Manual    Petrol  \n",
       "3               1.4       170.0  Automatic    Petrol  \n",
       "4               1.4       167.0     Manual    Petrol  \n",
       "...             ...         ...        ...       ...  \n",
       "216496          2.0       407.0  Automatic    Petrol  \n",
       "216497          2.0       235.0  Automatic    Diesel  \n",
       "216498          2.0       170.0     Manual    Petrol  \n",
       "216499          2.0       170.0     Manual    Petrol  \n",
       "216500          2.0       170.0     Manual    Petrol  \n",
       "\n",
       "[216501 rows x 10 columns]>"
      ]
     },
     "execution_count": 44,
     "metadata": {},
     "output_type": "execute_result"
    }
   ],
   "source": [
    "df = df.reset_index(drop=True)\n",
    "\n",
    "df.head"
   ]
  },
  {
   "cell_type": "markdown",
   "id": "d5d83b4b-4aa0-4f60-a26b-59eb3c3cee64",
   "metadata": {},
   "source": [
    "A known error from when i was doing my disertation is that converting the models to string corrected some volvo models into dates. Quickly fixing this before continuing"
   ]
  },
  {
   "cell_type": "code",
   "execution_count": 45,
   "id": "e6a8944b-6975-4e17-854f-ee1d23ffc916",
   "metadata": {},
   "outputs": [],
   "source": [
    "df.Model = df.Model.replace({\"04-Apr\": \"4/4\",\"09-Mar\":\"9-3\",\"09-May\":\"9-5\"})"
   ]
  },
  {
   "cell_type": "markdown",
   "id": "4216a7e2-d229-47de-8485-204c055f4686",
   "metadata": {},
   "source": [
    "Last check for null values before encoding"
   ]
  },
  {
   "cell_type": "code",
   "execution_count": 46,
   "id": "0ef0cfcd-6e92-4a12-80e1-5475b6fd7d30",
   "metadata": {},
   "outputs": [
    {
     "name": "stdout",
     "output_type": "stream",
     "text": [
      "<class 'pandas.core.frame.DataFrame'>\n",
      "RangeIndex: 216501 entries, 0 to 216500\n",
      "Data columns (total 10 columns):\n",
      " #   Column        Non-Null Count   Dtype  \n",
      "---  ------        --------------   -----  \n",
      " 0   Make          216501 non-null  object \n",
      " 1   Model         216501 non-null  object \n",
      " 2   Price         216501 non-null  float64\n",
      " 3   Reg year      216501 non-null  float64\n",
      " 4   Vehicle type  216501 non-null  object \n",
      " 5   Miles         216501 non-null  float64\n",
      " 6   Engine size   216501 non-null  float64\n",
      " 7   Horsepower    216501 non-null  float64\n",
      " 8   Trans type    216501 non-null  object \n",
      " 9   Fuel type     216501 non-null  object \n",
      "dtypes: float64(5), object(5)\n",
      "memory usage: 16.5+ MB\n"
     ]
    }
   ],
   "source": [
    "df.info()"
   ]
  },
  {
   "cell_type": "code",
   "execution_count": null,
   "id": "3c914086-95de-47a5-8dc3-e97575bde445",
   "metadata": {},
   "outputs": [],
   "source": []
  }
 ],
 "metadata": {
  "kernelspec": {
   "display_name": "Python 3 (ipykernel)",
   "language": "python",
   "name": "python3"
  },
  "language_info": {
   "codemirror_mode": {
    "name": "ipython",
    "version": 3
   },
   "file_extension": ".py",
   "mimetype": "text/x-python",
   "name": "python",
   "nbconvert_exporter": "python",
   "pygments_lexer": "ipython3",
   "version": "3.10.14"
  }
 },
 "nbformat": 4,
 "nbformat_minor": 5
}
